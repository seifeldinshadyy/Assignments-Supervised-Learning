{
 "cells": [
  {
   "cell_type": "code",
   "execution_count": 3,
   "metadata": {},
   "outputs": [],
   "source": [
    "import numpy as np\n",
    "import matplotlib.pyplot as plt\n",
    "from sklearn.datasets import make_classification\n",
    "from sklearn.model_selection import train_test_split\n",
    "from sklearn.linear_model import LogisticRegression\n",
    "from sklearn.metrics import accuracy_score\n",
    "from sklearn.datasets import make_classification\n",
    "from sklearn.model_selection import train_test_split"
   ]
  },
  {
   "cell_type": "code",
   "execution_count": 4,
   "metadata": {},
   "outputs": [],
   "source": [
    "X, y = make_classification(\n",
    "    n_samples=1000, \n",
    "    n_features=2, \n",
    "    n_informative=2, \n",
    "    n_redundant=0, \n",
    "    n_repeated=0, \n",
    "    n_classes=2, \n",
    "    random_state=42\n",
    ")\n",
    "\n",
    "X_train, X_test, y_train, y_test = train_test_split(X, y, test_size=0.2, random_state=42)"
   ]
  },
  {
   "cell_type": "code",
   "execution_count": 5,
   "metadata": {},
   "outputs": [],
   "source": [
    "def sigmoid(z):\n",
    "    return 1 / (1 + np.exp(-z))\n"
   ]
  },
  {
   "cell_type": "code",
   "execution_count": 6,
   "metadata": {},
   "outputs": [],
   "source": [
    "def compute_loss(y, y_pred):\n",
    "    return -np.mean(y * np.log(y_pred) + (1 - y) * np.log(1 - y_pred))\n"
   ]
  },
  {
   "cell_type": "code",
   "execution_count": 7,
   "metadata": {},
   "outputs": [],
   "source": [
    "def BGD(X_train, y_train, epochs, learning_rate=0.01):\n",
    "    w = np.zeros(X_train.shape[1])\n",
    "    b = 0\n",
    "    loss_history = []\n",
    "    \n",
    "    for epoch in range(epochs):\n",
    "        y_pred = sigmoid(np.dot(X_train, w) + b)\n",
    "        error = y_pred - y_train\n",
    "        \n",
    "        gradient_w = np.dot(X_train.T, error) / len(X_train)\n",
    "        gradient_b = np.sum(error) / len(X_train)\n",
    "        \n",
    "        w -= learning_rate * gradient_w\n",
    "        b -= learning_rate * gradient_b\n",
    "        \n",
    "        loss = compute_loss(y_train, y_pred)\n",
    "        loss_history.append(loss)\n",
    "        \n",
    "        if epoch % 50 == 0:\n",
    "            print(f\"Epoch {epoch}, Loss: {loss}\")\n",
    "    \n",
    "    return w, b, loss_history\n"
   ]
  },
  {
   "cell_type": "code",
   "execution_count": 8,
   "metadata": {},
   "outputs": [],
   "source": [
    "def SGD(X_train, y_train, epochs, learning_rate=0.01):\n",
    "    w = np.zeros(X_train.shape[1])\n",
    "    b = 0\n",
    "    loss_history = []\n",
    "    \n",
    "    for epoch in range(epochs):\n",
    "        indices = np.arange(len(X_train))\n",
    "        np.random.shuffle(indices)\n",
    "        X_train_shuffled = X_train[indices]\n",
    "        y_train_shuffled = y_train[indices]\n",
    "        \n",
    "        for i in range(len(X_train)):\n",
    "            x_i = X_train_shuffled[i]\n",
    "            y_i = y_train_shuffled[i]\n",
    "            \n",
    "            y_pred = sigmoid(np.dot(x_i, w) + b)\n",
    "            error = y_pred - y_i\n",
    "            \n",
    "            gradient_w = x_i * error\n",
    "            gradient_b = error\n",
    "            \n",
    "            w -= learning_rate * gradient_w\n",
    "            b -= learning_rate * gradient_b\n",
    "        \n",
    "        y_pred_all = sigmoid(np.dot(X_train, w) + b)\n",
    "        loss = compute_loss(y_train, y_pred_all)\n",
    "        loss_history.append(loss)\n",
    "        \n",
    "        if epoch % 50 == 0:\n",
    "            print(f\"Epoch {epoch}, Loss: {loss}\")\n",
    "    \n",
    "    return w, b, loss_history\n"
   ]
  },
  {
   "cell_type": "code",
   "execution_count": 9,
   "metadata": {},
   "outputs": [],
   "source": [
    "def MBGD(X_train, y_train, epochs, learning_rate=0.01, batch_size=32):\n",
    "    w = np.zeros(X_train.shape[1])\n",
    "    b = 0\n",
    "    loss_history = []\n",
    "    \n",
    "    for epoch in range(epochs):\n",
    "        indices = np.arange(len(X_train))\n",
    "        np.random.shuffle(indices)\n",
    "        X_train_shuffled = X_train[indices]\n",
    "        y_train_shuffled = y_train[indices]\n",
    "        \n",
    "        for i in range(0, len(X_train), batch_size):\n",
    "            X_batch = X_train_shuffled[i:i + batch_size]\n",
    "            y_batch = y_train_shuffled[i:i + batch_size]\n",
    "            \n",
    "            y_pred = sigmoid(np.dot(X_batch, w) + b)\n",
    "            error = y_pred - y_batch\n",
    "            \n",
    "            gradient_w = np.dot(X_batch.T, error) / len(X_batch)\n",
    "            gradient_b = np.sum(error) / len(X_batch)\n",
    "            \n",
    "            w -= learning_rate * gradient_w\n",
    "            b -= learning_rate * gradient_b\n",
    "        \n",
    "        y_pred_all = sigmoid(np.dot(X_train, w) + b)\n",
    "        loss = compute_loss(y_train, y_pred_all)\n",
    "        loss_history.append(loss)\n",
    "        \n",
    "        if epoch % 50 == 0:\n",
    "            print(f\"Epoch {epoch}, Loss: {loss}\")\n",
    "    \n",
    "    return w, b, loss_history\n"
   ]
  },
  {
   "cell_type": "code",
   "execution_count": 10,
   "metadata": {},
   "outputs": [
    {
     "name": "stdout",
     "output_type": "stream",
     "text": [
      "Epoch 0, Loss: 0.6931471805599452\n",
      "Epoch 50, Loss: 0.594498961921717\n",
      "Epoch 100, Loss: 0.5324151978254966\n",
      "Epoch 150, Loss: 0.4911400954761641\n",
      "Epoch 200, Loss: 0.4622138599917796\n",
      "Epoch 250, Loss: 0.4410467128080595\n",
      "Epoch 300, Loss: 0.42501680780460177\n",
      "Epoch 350, Loss: 0.41254092889592797\n",
      "Epoch 400, Loss: 0.40261430825951633\n",
      "Epoch 450, Loss: 0.3945716452407471\n",
      "Epoch 500, Loss: 0.38795633862396023\n",
      "Epoch 550, Loss: 0.3824453588128914\n",
      "Epoch 600, Loss: 0.377804176556139\n",
      "Epoch 650, Loss: 0.3738586792127029\n",
      "Epoch 700, Loss: 0.37047708307905547\n",
      "Epoch 750, Loss: 0.36755794118501756\n",
      "Epoch 800, Loss: 0.3650219869698179\n",
      "Epoch 850, Loss: 0.36280646020669133\n",
      "Epoch 900, Loss: 0.36086107962018105\n",
      "Epoch 950, Loss: 0.3591451324283004\n",
      "BGD Loss: 0.3576539962\n",
      "Epoch 0, Loss: 0.3630613708391527\n",
      "Epoch 50, Loss: 0.34275086084232564\n",
      "Epoch 100, Loss: 0.34271225097255337\n",
      "Epoch 150, Loss: 0.3427211393851987\n",
      "Epoch 200, Loss: 0.3427313956151603\n",
      "Epoch 250, Loss: 0.3427044339932106\n",
      "Epoch 300, Loss: 0.3428262950359333\n",
      "Epoch 350, Loss: 0.34271132003244387\n",
      "Epoch 400, Loss: 0.3427505683981486\n",
      "Epoch 450, Loss: 0.3427370410723083\n",
      "Epoch 500, Loss: 0.3427516620987266\n",
      "Epoch 550, Loss: 0.34272192622604825\n",
      "Epoch 600, Loss: 0.34271578363502114\n",
      "Epoch 650, Loss: 0.34271803540475465\n",
      "Epoch 700, Loss: 0.3427629784342727\n",
      "Epoch 750, Loss: 0.34275836194706644\n",
      "Epoch 800, Loss: 0.3427629976968231\n",
      "Epoch 850, Loss: 0.3427110942807172\n",
      "Epoch 900, Loss: 0.3428368407239937\n",
      "Epoch 950, Loss: 0.34270256579815817\n",
      "SGD Loss: 0.3427133225\n",
      "Epoch 0, Loss: 0.6378954149211135\n",
      "Epoch 50, Loss: 0.3517443246369675\n",
      "Epoch 100, Loss: 0.34404258870558224\n",
      "Epoch 150, Loss: 0.34295404644235405\n",
      "Epoch 200, Loss: 0.34275269121666746\n",
      "Epoch 250, Loss: 0.3427119189820107\n",
      "Epoch 300, Loss: 0.34270330179969366\n",
      "Epoch 350, Loss: 0.3427014469891381\n",
      "Epoch 400, Loss: 0.34270104687522024\n",
      "Epoch 450, Loss: 0.3427009755661775\n",
      "Epoch 500, Loss: 0.34270095648779736\n",
      "Epoch 550, Loss: 0.3427009520978101\n",
      "Epoch 600, Loss: 0.34270095021211544\n",
      "Epoch 650, Loss: 0.3427009509668423\n",
      "Epoch 700, Loss: 0.3427009509930683\n",
      "Epoch 750, Loss: 0.34270095033880793\n",
      "Epoch 800, Loss: 0.34270095016134816\n",
      "Epoch 850, Loss: 0.3427009496239963\n",
      "Epoch 900, Loss: 0.34270095185537985\n",
      "Epoch 950, Loss: 0.3427009496483642\n",
      "MBGD Loss: 0.3427009509\n",
      "Scikit-Learn LogisticRegression Accuracy: 0.8800000000\n"
     ]
    }
   ],
   "source": [
    "\n",
    "epochs = 1000\n",
    "learning_rate = 0.01\n",
    "batch_size = 32 \n",
    "w_bgd, b_bgd, loss_bgd = BGD(X_train, y_train, epochs, learning_rate)\n",
    "print(f\"BGD Loss: {loss_bgd[-1]:.10f}\")\n",
    "w_sgd, b_sgd, loss_sgd = SGD(X_train, y_train, epochs, learning_rate)\n",
    "print(f\"SGD Loss: {loss_sgd[-1]:.10f}\")\n",
    "w_mbgd, b_mbgd, loss_mbgd = MBGD(X_train, y_train, epochs, learning_rate, batch_size)\n",
    "print(f\"MBGD Loss: {loss_mbgd[-1]:.10f}\")\n",
    "lr = LogisticRegression(max_iter=epochs)\n",
    "lr.fit(X_train, y_train)  \n",
    "y_pred_lr = lr.predict(X_test)\n",
    "accuracy_lr = accuracy_score(y_test, y_pred_lr)\n",
    "print(f\"Scikit-Learn LogisticRegression Accuracy: {accuracy_lr:.10f}\")\n",
    "\n",
    "\n"
   ]
  },
  {
   "cell_type": "code",
   "execution_count": 11,
   "metadata": {},
   "outputs": [],
   "source": [
    "def predict(X, w, b):\n",
    "    return (sigmoid(np.dot(X, w) + b) >= 0.5).astype(int)\n"
   ]
  },
  {
   "cell_type": "code",
   "execution_count": 12,
   "metadata": {},
   "outputs": [],
   "source": [
    "y_pred_bgd = predict(X_test, w_bgd, b_bgd)\n",
    "y_pred_sgd = predict(X_test, w_sgd, b_sgd)\n",
    "y_pred_mbgd = predict(X_test, w_mbgd, b_mbgd)\n",
    "\n",
    "acc_bgd = accuracy_score(y_test, y_pred_bgd)\n",
    "acc_sgd = accuracy_score(y_test, y_pred_sgd)\n",
    "acc_mbgd = accuracy_score(y_test, y_pred_mbgd)\n"
   ]
  },
  {
   "cell_type": "code",
   "execution_count": 13,
   "metadata": {},
   "outputs": [
    {
     "data": {
      "image/png": "[encoded data removed]",
      "text/plain": [
       "<Figure size 640x480 with 1 Axes>"
      ]
     },
     "metadata": {},
     "output_type": "display_data"
    }
   ],
   "source": [
    "plt.plot(loss_bgd, label='BGD')\n",
    "plt.plot(loss_sgd, label='SGD')\n",
    "plt.plot(loss_mbgd, label='MBGD')\n",
    "plt.xlabel('Epochs')\n",
    "plt.ylabel('Loss')\n",
    "plt.title('Loss over Epochs')\n",
    "plt.legend()\n",
    "plt.show()\n"
   ]
  }
 ],
 "metadata": {
  "kernelspec": {
   "display_name": "base",
   "language": "python",
   "name": "python3"
  },
  "language_info": {
   "codemirror_mode": {
    "name": "ipython",
    "version": 3
   },
   "file_extension": ".py",
   "mimetype": "text/x-python",
   "name": "python",
   "nbconvert_exporter": "python",
   "pygments_lexer": "ipython3",
   "version": "3.12.7"
  }
 },
 "nbformat": 4,
 "nbformat_minor": 2
}
