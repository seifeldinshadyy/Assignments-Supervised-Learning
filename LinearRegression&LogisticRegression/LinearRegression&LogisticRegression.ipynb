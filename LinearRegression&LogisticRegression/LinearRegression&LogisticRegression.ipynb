{
 "cells": [
  {
   "cell_type": "markdown",
   "metadata": {},
   "source": [
    "### import"
   ]
  },
  {
   "cell_type": "code",
   "execution_count": 171,
   "metadata": {},
   "outputs": [],
   "source": [
    "import numpy as np\n",
    "import pandas as pd\n",
    "import matplotlib.pyplot as plt\n",
    "from sklearn.model_selection import train_test_split\n",
    "from sklearn.metrics import mean_squared_error\n",
    "from sklearn.linear_model import LinearRegression"
   ]
  },
  {
   "cell_type": "markdown",
   "metadata": {},
   "source": [
    "### Generate Data\n"
   ]
  },
  {
   "cell_type": "code",
   "execution_count": 172,
   "metadata": {},
   "outputs": [
    {
     "name": "stdout",
     "output_type": "stream",
     "text": [
      "(1000, 1) (1000, 1)\n",
      "      Feature    Target\n",
      "0    0.848818  0.794028\n",
      "1    0.178896 -1.161753\n",
      "2    0.054363 -1.127471\n",
      "3    0.361538 -1.011517\n",
      "4    0.275401 -0.076632\n",
      "..        ...       ...\n",
      "995  0.655027 -0.175047\n",
      "996  0.609045 -0.476685\n",
      "997  0.582182  0.433719\n",
      "998  0.952590  2.688411\n",
      "999  0.942166  2.257932\n",
      "\n",
      "[1000 rows x 2 columns]\n"
     ]
    }
   ],
   "source": [
    "np.random.seed(15)\n",
    "X = np.random.rand(1000, 1) # 100 random numbers between 0 and 1\n",
    "y = 4 * X - 2 + np.random.randn(1000, 1)  # y = 4X - 2 + noise\n",
    "\n",
    "print(X.shape, y.shape)\n",
    "# print (X[:10])\n",
    "# print (y[:10])\n",
    "# print (X, y)    \n",
    "# print the features and the target values as table\n",
    "data = np.hstack((X, y))\n",
    "print(pd.DataFrame(data, columns=[\"Feature\", \"Target\"]))\n",
    "\n",
    "    \n",
    "\n"
   ]
  },
  {
   "cell_type": "markdown",
   "metadata": {},
   "source": [
    "### Split the dataset"
   ]
  },
  {
   "cell_type": "code",
   "execution_count": 173,
   "metadata": {},
   "outputs": [
    {
     "name": "stdout",
     "output_type": "stream",
     "text": [
      "(800, 1) (800, 1)\n",
      "(200, 1) (200, 1)\n"
     ]
    }
   ],
   "source": [
    "X_train, X_test, y_train, y_test = train_test_split(X, y, test_size=0.2, random_state=15)\n",
    "\n",
    "print (X_train.shape, y_train.shape)\n",
    "print (X_test.shape, y_test.shape)\n"
   ]
  },
  {
   "cell_type": "markdown",
   "metadata": {},
   "source": [
    "##  LinearRegression With Three way of Gradient descent"
   ]
  },
  {
   "cell_type": "code",
   "execution_count": 174,
   "metadata": {},
   "outputs": [],
   "source": [
    "class LinearRegressionGD:\n",
    "    def __init__(self, learning_rate=0.01, epochs=100, batch_size=32, method=\"BGD\"):\n",
    "        \"\"\"\n",
    "        Parameters:\n",
    "        - learning_rate: The step size for gradient descent updates.\n",
    "        - epochs: Number of iterations for training.\n",
    "        - batch_size: Size of mini-batches (only used for MBGD).\n",
    "        - method: Type of gradient descent ('BGD', 'SGD', or 'MBGD').\n",
    "        \"\"\"\n",
    "        self.learning_rate = learning_rate\n",
    "        self.epochs = epochs\n",
    "        self.batch_size = batch_size\n",
    "        self.method = method\n",
    "        self.cur_weights = None  # parameters\n",
    "        self.history = []  #  MSE for each Iteration (epochs)\n",
    "\n",
    "    def fit(self, X, y):\n",
    "        np.random.seed(15) \n",
    "        n_examples, n_features = X.shape\n",
    "        X_with_bias = np.hstack((np.ones((n_examples, 1)), X))  #bias  \n",
    "        self.cur_weights = np.random.randn(n_features + 1, 1)  # Initialize weights randomly \n",
    "        \n",
    "        # print(self.cur_weights)\n",
    "\n",
    "        if self.method == \"BGD\":\n",
    "            self.batch_gradient_descent(X_with_bias, y)\n",
    "        elif self.method == \"SGD\":\n",
    "            self.stochastic_gradient_descent(X_with_bias, y)\n",
    "        elif self.method == \"MBGD\":\n",
    "            self.mini_batch_gradient_descent(X_with_bias, y)\n",
    "        else:\n",
    "            raise ValueError(\"Invalid method. Choose 'BGD', 'SGD', or 'MBGD'.\")\n",
    "\n",
    "    def predict(self, X_test):\n",
    "        X_with_bias = np.hstack((np.ones((X_test.shape[0], 1)), X_test))  #  bias \n",
    "        y_pred = X_with_bias.dot(self.cur_weights)\n",
    "        return y_pred\n",
    "    \n",
    "    \n",
    "\n",
    "    def batch_gradient_descent(self, X, y):\n",
    "        n_examples = len(y)\n",
    "        for epoch in range(self.epochs):\n",
    "            pred = np.dot(X, self.cur_weights)\n",
    "            error = pred - y\n",
    "            gradients = X.T @ error / n_examples  # same as X.T.dot(error) / num_examples\n",
    "            self.cur_weights -= self.learning_rate * gradients\n",
    "            mse = mean_squared_error(y,pred)\n",
    "            self.history.append(mse)\n",
    "\n",
    "    def stochastic_gradient_descent(self, X, y):\n",
    "        num_examples = len(y)\n",
    "        for epoch in range(self.epochs):\n",
    "            for i in range(num_examples):\n",
    "                random_index = np.random.randint(num_examples)\n",
    "                xi = X[random_index:random_index+1]\n",
    "                yi = y[random_index:random_index+1]\n",
    "                pred = np.dot(xi, self.cur_weights)\n",
    "                error = pred - yi\n",
    "                gradients = xi.T.dot(error)\n",
    "                self.cur_weights -= self.learning_rate * gradients\n",
    "            mse = mean_squared_error(y, X.dot(self.cur_weights))\n",
    "            self.history.append(mse)\n",
    "\n",
    "    def mini_batch_gradient_descent(self, X, y):\n",
    "        num_examples = len(y)\n",
    "        for epoch in range(self.epochs):\n",
    "            shuffled_indices = np.random.permutation(num_examples)\n",
    "            X_shuffled = X[shuffled_indices]\n",
    "            y_shuffled = y[shuffled_indices]\n",
    "\n",
    "            for i in range(0, num_examples, self.batch_size):\n",
    "                xi = X_shuffled[i:i+self.batch_size]\n",
    "                yi = y_shuffled[i:i+self.batch_size]\n",
    "                pred = np.dot(xi, self.cur_weights)\n",
    "                error = pred - yi\n",
    "                gradients = xi.T.dot(error) / len(xi)\n",
    "                self.cur_weights -= self.learning_rate * gradients\n",
    "            \n",
    "            mse = mean_squared_error(y, X.dot(self.cur_weights))\n",
    "            self.history.append(mse)"
   ]
  },
  {
   "cell_type": "code",
   "execution_count": 175,
   "metadata": {},
   "outputs": [
    {
     "name": "stdout",
     "output_type": "stream",
     "text": [
      "BGD Mean Squared Error: 1.7555135390520635\n",
      "SGD Mean Squared Error: 1.0267948319360414\n",
      "MBGD Mean Squared Error: 1.024306393850342\n",
      "Scikit-Learn LinearRegression Mean Squared Error: 1.0257150179982437\n"
     ]
    },
    {
     "data": {
      "image/png": "[encoded data removed]",
      "text/plain": [
       "<Figure size 640x480 with 1 Axes>"
      ]
     },
     "metadata": {},
     "output_type": "display_data"
    }
   ],
   "source": [
    "\n",
    "methods = [\"BGD\", \"SGD\", \"MBGD\"]\n",
    "results = {}\n",
    "\n",
    "for method in methods:\n",
    "    model = LinearRegressionGD(learning_rate=0.01, epochs=100, batch_size=10, method=method)\n",
    "    model.fit( X_train, y_train)\n",
    "    y_pred = model.predict(X_test)\n",
    "    mse = mean_squared_error(y_test, y_pred)\n",
    "    results[method] = mse\n",
    "    print(f\"{method} Mean Squared Error: {mse}\")\n",
    "\n",
    "    # Plot MSE history\n",
    "    plt.plot(model.history, label=f\"{method} MSE\")\n",
    "\n",
    "# Train and evaluate Scikit-Learn's Linear Regression model\n",
    "lin_reg = LinearRegression()\n",
    "lin_reg.fit(X_train, y_train)\n",
    "y_pred_sklearn = lin_reg.predict(X_test)\n",
    "mse_sklearn = mean_squared_error(y_test, y_pred_sklearn)\n",
    "print(\"Scikit-Learn LinearRegression Mean Squared Error:\", mse_sklearn)\n",
    "results[\"Scikit-Learn\"] = mse_sklearn\n",
    "\n",
    "# Plot MSE history\n",
    "plt.xlabel(\"Epochs\")\n",
    "plt.ylabel(\"Mean Squared Error\")\n",
    "plt.title(\"Training Error Convergence\")\n",
    "plt.legend()\n",
    "plt.show()"
   ]
  }
 ],
 "metadata": {
  "kernelspec": {
   "display_name": "Python 3",
   "language": "python",
   "name": "python3"
  },
  "language_info": {
   "codemirror_mode": {
    "name": "ipython",
    "version": 3
   },
   "file_extension": ".py",
   "mimetype": "text/x-python",
   "name": "python",
   "nbconvert_exporter": "python",
   "pygments_lexer": "ipython3",
   "version": "3.12.2"
  }
 },
 "nbformat": 4,
 "nbformat_minor": 2
}
